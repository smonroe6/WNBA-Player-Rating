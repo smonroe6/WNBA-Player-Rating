{
 "cells": [
  {
   "cell_type": "markdown",
   "metadata": {},
   "source": [
    "Create Metrics"
   ]
  },
  {
   "cell_type": "code",
   "execution_count": 5,
   "metadata": {},
   "outputs": [
    {
     "name": "stdout",
     "output_type": "stream",
     "text": [
      "Columns before filtering (2023): ['Player', 'Team', 'Pos', 'G', 'MP', 'GS', 'FG', 'FGA', 'FG%', '3P', '3PA', '3P%', '2P', '2PA', '2P%', 'FT', 'FTA', 'FT%', 'ORB', 'DRB', 'TRB', 'AST', 'STL', 'BLK', 'TOV', 'PF', 'PTS', 'Efficiency', 'WinScore', 'NBAPER', 'WNBAPER']\n",
      "Columns before filtering (2024): ['Player', 'Team', 'Pos', 'G', 'MP', 'GS', 'FG', 'FGA', 'FG%', '3P', '3PA', '3P%', '2P', '2PA', '2P%', 'FT', 'FTA', 'FT%', 'ORB', 'DRB', 'TRB', 'AST', 'STL', 'BLK', 'TOV', 'PF', 'PTS', 'Efficiency', 'WinScore', 'NBAPER', 'WNBAPER']\n",
      "Columns before filtering (2025): ['Player', 'Team', 'Pos', 'G', 'MP', 'GS', 'FG', 'FGA', 'FG%', '3P', '3PA', '3P%', '2P', '2PA', '2P%', 'FT', 'FTA', 'FT%', 'ORB', 'DRB', 'TRB', 'AST', 'STL', 'BLK', 'TOV', 'PF', 'PTS', 'Efficiency', 'WinScore', 'NBAPER', 'WNBAPER']\n"
     ]
    }
   ],
   "source": [
    "import pandas as pd\n",
    "import os\n",
    "from pathlib import Path\n",
    "\n",
    "# Set working directory to project root if run from notebooks/\n",
    "if Path.cwd().name == \"notebooks\":\n",
    "    os.chdir(\"..\")\n",
    "\n",
    "# Define folders – assume they already exist\n",
    "raw_data_dir = Path(\"data/Raw\")\n",
    "cleaned_data_dir = Path(\"data/Cleaned\")\n",
    "metrics_data_dir = Path(\"data/Metrics\")\n",
    "current_season_dir = metrics_data_dir / \"CurrentSeasonTeams\"\n",
    "\n",
    "df2023 = pd.read_csv(cleaned_data_dir / '2023Data.csv')\n",
    "\n",
    "df2024 = pd.read_csv(cleaned_data_dir / '2024Data.csv')\n",
    "\n",
    "df2025 = pd.read_csv(cleaned_data_dir / '2025Data.csv')\n",
    "\n",
    "\n",
    "df2023['Efficiency'] = (1/df2023['G']) * (df2023['PTS'] + df2023['TRB'] + df2023['AST'] + df2023['STL'] - df2023['TOV'] - (df2023['FGA'] - df2023['FG']) - (df2023['FTA'] - df2023['FT']))\n",
    "\n",
    "df2024['Efficiency'] = (1/df2024['G']) * (df2024['PTS'] + df2024['TRB'] + df2024['AST'] + df2024['STL'] - df2024['TOV'] - (df2024['FGA'] - df2024['FG']) - (df2024['FTA'] - df2024['FT']))\n",
    "\n",
    "df2025['Efficiency'] = (1/df2025['G']) * (df2025['PTS'] + df2025['TRB'] + df2025['AST'] + df2025['STL'] - df2025['TOV'] - (df2025['FGA'] - df2025['FG']) - (df2025['FTA'] - df2025['FT']))\n",
    "\n",
    "df2023['WinScore'] = (1/df2023['G']) * (df2023['PTS'] + df2023['TRB'] + df2023['STL'] + (df2023['AST'] * 0.5) + (df2023['BLK'] * 0.5) - df2023['FGA'] - df2023['TOV'] - (df2023['FTA'] * 0.5) - (df2023['PF'] * 0.5))\n",
    "\n",
    "df2024['WinScore'] = (1/df2024['G']) * (df2024['PTS'] + df2024['TRB'] + df2024['STL'] + (df2024['AST'] * 0.5) + (df2024['BLK'] * 0.5) - df2024['FGA'] - df2024['TOV'] - (df2024['FTA'] * 0.5) - (df2024['PF'] * 0.5))\n",
    "\n",
    "df2025['WinScore'] = (1/df2025['G']) * (df2025['PTS'] + df2025['TRB'] + df2025['STL'] + (df2025['AST'] * 0.5) + (df2025['BLK'] * 0.5) - df2025['FGA'] - df2025['TOV'] - (df2025['FTA'] * 0.5) - (df2025['PF'] * 0.5))\n",
    "\n",
    "df2023['NBAPER'] = .68 + ((1/df2023['MP']) * ((26.77 * df2023['FG']) - (35.58 * df2023['FGA']) + (26.32 * df2023['FT']) - (25.47 * df2023['FTA']) + (42.74 * df2023['ORB']) + (11.45 * df2023['DRB']) + (29.7 * df2023['AST']) + (47.3 * df2023['STL']) + (38 * df2023['BLK']) - (47.9 * df2023['TOV']) - (18.8 * df2023['PF']) + (41.1 * df2023['PTS'])))\n",
    "\n",
    "df2024['NBAPER'] = .68 + ((1/df2024['MP']) * ((26.77 * df2024['FG']) - (35.58 * df2024['FGA']) + (26.32 * df2024['FT']) - (25.47 * df2024['FTA']) + (42.74 * df2024['ORB']) + (11.45 * df2024['DRB']) + (29.7 * df2024['AST']) + (47.3 * df2024['STL']) + (38 * df2024['BLK']) - (47.9 * df2024['TOV']) - (18.8 * df2024['PF']) + (41.1 * df2024['PTS'])))\n",
    "\n",
    "df2025['NBAPER'] = .68 + ((1/df2025['MP']) * ((26.77 * df2025['FG']) - (35.58 * df2025['FGA']) + (26.32 * df2025['FT']) - (25.47 * df2025['FTA']) + (42.74 * df2025['ORB']) + (11.45 * df2025['DRB']) + (29.7 * df2025['AST']) + (47.3 * df2025['STL']) + (38 * df2025['BLK']) - (47.9 * df2025['TOV']) - (18.8 * df2025['PF']) + (41.1 * df2025['PTS'])))\n",
    "\n",
    "df2023['WNBAPER'] = .3289 + ((1/df2023['MP']) * ((53.35 * df2023['FG']) - (29.28 * df2023['FGA']) + (15.27 * df2023['FT']) - (25.34 * df2023['FTA']) + (47.72 * df2023['ORB']) + (10.95 * df2023['DRB']) + (31.61 * df2023['AST']) + (50.72 * df2023['STL']) + (50.68 * df2023['BLK']) - (45.88 * df2023['TOV']) - (61.23 * df2023['PF']) + (41.1 * df2023['PTS'])))\n",
    "\n",
    "df2024['WNBAPER'] = .3289 + ((1/df2024['MP']) * ((53.35 * df2024['FG']) - (29.28 * df2024['FGA']) + (15.27 * df2024['FT']) - (25.34 * df2024['FTA']) + (47.72 * df2024['ORB']) + (10.95 * df2024['DRB']) + (31.61 * df2024['AST']) + (50.72 * df2024['STL']) + (50.68 * df2024['BLK']) - (45.88 * df2024['TOV']) - (61.23 * df2024['PF']) + (41.1 * df2024['PTS'])))\n",
    "\n",
    "df2025['WNBAPER'] = .3289 + ((1/df2025['MP']) * ((53.35 * df2025['FG']) - (29.28 * df2025['FGA']) + (15.27 * df2025['FT']) - (25.34 * df2025['FTA']) + (47.72 * df2025['ORB']) + (10.95 * df2025['DRB']) + (31.61 * df2025['AST']) + (50.72 * df2025['STL']) + (50.68 * df2025['BLK']) - (45.88 * df2025['TOV']) - (61.23 * df2025['PF']) + (41.1 * df2025['PTS'])))\n",
    "                                                 \n",
    "print(\"Columns before filtering (2023):\", df2023.columns.tolist())\n",
    "print(\"Columns before filtering (2024):\", df2024.columns.tolist())\n",
    "print(\"Columns before filtering (2025):\", df2025.columns.tolist())\n",
    "\n",
    "expected_cols = ['Player', 'Team', 'Pos', 'WinScore', 'Efficiency', 'NBAPER', 'WNBAPER']\n",
    "df2023 = df2023[[col for col in expected_cols if col in df2023.columns]]\n",
    "df2024 = df2024[[col for col in expected_cols if col in df2024.columns]]\n",
    "df2025 = df2025[[col for col in expected_cols if col in df2025.columns]]\n",
    "\n",
    "df2023 = df2023.round(3)\n",
    "\n",
    "df2024 = df2024.round(3)\n",
    "\n",
    "df2025 = df2025.round(3)\n",
    "\n",
    "df2025.to_csv(current_season_dir / '2025Metrics.csv', index=False, sep=',', encoding='utf-8', lineterminator='\\n')\n",
    "\n",
    "df2023teamless = df2023[['Player', 'Pos', 'WinScore', 'Efficiency', 'NBAPER', 'WNBAPER']].copy()\n",
    "\n",
    "df2024teamless = df2024[['Player', 'Pos', 'WinScore', 'Efficiency', 'NBAPER', 'WNBAPER']].copy()\n",
    "\n",
    "df2025teamless = df2025[['Player', 'Pos', 'WinScore', 'Efficiency', 'NBAPER', 'WNBAPER']].copy()\n",
    "\n",
    "df2023teamless = df2023teamless.astype({\n",
    "    \"Player\": str, \"Pos\": str, \n",
    "    \"WinScore\": float, \"Efficiency\": float, \"NBAPER\": float, \"WNBAPER\": float\n",
    "})\n",
    "\n",
    "df2024teamless = df2024teamless.astype({\n",
    "    \"Player\": str, \"Pos\": str, \n",
    "    \"WinScore\": float, \"Efficiency\": float, \"NBAPER\": float, \"WNBAPER\": float\n",
    "})\n",
    "\n",
    "df2025teamless = df2025teamless.astype({\n",
    "    \"Player\": str, \"Pos\": str, \n",
    "    \"WinScore\": float, \"Efficiency\": float, \"NBAPER\": float, \"WNBAPER\": float\n",
    "})\n",
    "\n",
    "df2023teamless.to_csv(metrics_data_dir / '2023Metrics.csv', index=False, sep=',', encoding='utf-8', lineterminator='\\n')\n",
    "\n",
    "df2024teamless.to_csv(metrics_data_dir / '2024Metrics.csv', index=False, sep=',', encoding='utf-8', lineterminator='\\n')\n",
    "\n",
    "df2025teamless.to_csv(metrics_data_dir / '2025Metrics.csv', index=False, sep=',', encoding='utf-8', lineterminator='\\n')"
   ]
  },
  {
   "cell_type": "markdown",
   "metadata": {},
   "source": [
    "Team Specific Current Season"
   ]
  },
  {
   "cell_type": "code",
   "execution_count": 6,
   "metadata": {},
   "outputs": [],
   "source": [
    "df2025 = pd.read_csv(current_season_dir / '2025Metrics.csv')\n",
    "\n",
    "# The column to split on\n",
    "split_column = \"Team\"\n",
    "\n",
    "# Directory to save files (ensure it exists or create it)\n",
    "output_dir = current_season_dir\n",
    "\n",
    "# Split and save\n",
    "for group, group_df in df2025.groupby(split_column):\n",
    "    filename = f\"{output_dir}/{group}.csv\"\n",
    "    group_df = group_df.drop(columns=['Team'])  # Drop 'Team' column\n",
    "    group_df.to_csv(filename, index=False, sep=',', encoding='utf-8')"
   ]
  }
 ],
 "metadata": {
  "kernelspec": {
   "display_name": "Python 3",
   "language": "python",
   "name": "python3"
  },
  "language_info": {
   "codemirror_mode": {
    "name": "ipython",
    "version": 3
   },
   "file_extension": ".py",
   "mimetype": "text/x-python",
   "name": "python",
   "nbconvert_exporter": "python",
   "pygments_lexer": "ipython3",
   "version": "3.9.6"
  }
 },
 "nbformat": 4,
 "nbformat_minor": 2
}
