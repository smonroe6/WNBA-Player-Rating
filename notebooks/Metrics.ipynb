{
 "cells": [
  {
   "cell_type": "markdown",
   "metadata": {},
   "source": [
    "Create Metrics"
   ]
  },
  {
   "cell_type": "code",
   "execution_count": 8,
   "metadata": {},
   "outputs": [],
   "source": [
    "import pandas as pd\n",
    "\n",
    "df2023 = pd.read_csv('/Users/stephenmonroe/Desktop/Coding/WNBA-Player-Rating/data/Cleaned/2023Data.csv')\n",
    "\n",
    "df2024 = pd.read_csv('/Users/stephenmonroe/Desktop/Coding/WNBA-Player-Rating/data/Cleaned/2024Data.csv')\n",
    "\n",
    "df2025 = pd.read_csv('/Users/stephenmonroe/Desktop/Coding/WNBA-Player-Rating/data/Cleaned/2025Data.csv')\n",
    "\n",
    "\n",
    "df2023['Efficiency'] = (1/df2023['G']) * (df2023['PTS'] + df2023['TRB'] + df2023['AST'] + df2023['STL'] - df2023['TOV'] - (df2023['FGA'] - df2023['FG']) - (df2023['FTA'] - df2023['FT']))\n",
    "\n",
    "df2024['Efficiency'] = (1/df2024['G']) * (df2024['PTS'] + df2024['TRB'] + df2024['AST'] + df2024['STL'] - df2024['TOV'] - (df2024['FGA'] - df2024['FG']) - (df2024['FTA'] - df2024['FT']))\n",
    "\n",
    "df2025['Efficiency'] = (1/df2025['G']) * (df2025['PTS'] + df2025['TRB'] + df2025['AST'] + df2025['STL'] - df2025['TOV'] - (df2025['FGA'] - df2025['FG']) - (df2025['FTA'] - df2025['FT']))\n",
    "\n",
    "df2023['WinScore'] = (1/df2023['G']) * (df2023['PTS'] + df2023['TRB'] + df2023['STL'] + (df2023['AST'] * 0.5) + (df2023['BLK'] * 0.5) - df2023['FGA'] - df2023['TOV'] - (df2023['FTA'] * 0.5) - (df2023['PF'] * 0.5))\n",
    "\n",
    "df2024['WinScore'] = (1/df2024['G']) * (df2024['PTS'] + df2024['TRB'] + df2024['STL'] + (df2024['AST'] * 0.5) + (df2024['BLK'] * 0.5) - df2024['FGA'] - df2024['TOV'] - (df2024['FTA'] * 0.5) - (df2024['PF'] * 0.5))\n",
    "\n",
    "df2025['WinScore'] = (1/df2025['G']) * (df2025['PTS'] + df2025['TRB'] + df2025['STL'] + (df2025['AST'] * 0.5) + (df2025['BLK'] * 0.5) - df2025['FGA'] - df2025['TOV'] - (df2025['FTA'] * 0.5) - (df2025['PF'] * 0.5))\n",
    "\n",
    "df2023['PER'] = .68 + ((1/df2023['MP']) * ((26.77 * df2023['FG']) - (35.58 * df2023['FGA']) + (26.32 * df2023['FT']) - (25.47 * df2023['FTA']) + (42.74 * df2023['ORB']) + (11.45 * df2023['DRB']) + (29.7 * df2023['AST']) + (47.3 * df2023['STL']) + (38 * df2023['BLK']) - (47.9 * df2023['TOV']) - (18.8 * df2023['PF']) + (41.1 * df2023['PTS'])))\n",
    "\n",
    "df2024['PER'] = .68 + ((1/df2024['MP']) * ((26.77 * df2024['FG']) - (35.58 * df2024['FGA']) + (26.32 * df2024['FT']) - (25.47 * df2024['FTA']) + (42.74 * df2024['ORB']) + (11.45 * df2024['DRB']) + (29.7 * df2024['AST']) + (47.3 * df2024['STL']) + (38 * df2024['BLK']) - (47.9 * df2024['TOV']) - (18.8 * df2024['PF']) + (41.1 * df2024['PTS'])))\n",
    "\n",
    "df2025['PER'] = .68 + ((1/df2025['MP']) * ((26.77 * df2025['FG']) - (35.58 * df2025['FGA']) + (26.32 * df2025['FT']) - (25.47 * df2025['FTA']) + (42.74 * df2025['ORB']) + (11.45 * df2025['DRB']) + (29.7 * df2025['AST']) + (47.3 * df2025['STL']) + (38 * df2025['BLK']) - (47.9 * df2025['TOV']) - (18.8 * df2025['PF']) + (41.1 * df2025['PTS'])))\n",
    "\n",
    "\n",
    "df2023 = df2023[['Player', 'Pos', 'WinScore', 'Efficiency', 'PER']]\n",
    "\n",
    "df2024 = df2024[['Player', 'Pos', 'WinScore', 'Efficiency', 'PER']]\n",
    "\n",
    "df2025 = df2025[['Player', 'Pos', 'WinScore', 'Efficiency', 'PER']]\n",
    "\n",
    "df2023 = df2023.round(3)\n",
    "\n",
    "df2024 = df2024.round(3)\n",
    "\n",
    "df2025 = df2025.round(3)\n",
    "\n",
    "df2023.to_csv('/Users/stephenmonroe/Desktop/Coding/WNBA-Player-Rating/data/Metrics/2023Metrics.csv', index=False)\n",
    "\n",
    "df2024.to_csv('/Users/stephenmonroe/Desktop/Coding/WNBA-Player-Rating/data/Metrics/2024Metrics.csv', index=False)\n",
    "\n",
    "df2025.to_csv('/Users/stephenmonroe/Desktop/Coding/WNBA-Player-Rating/data/Metrics/2025Metrics.csv', index=False)"
   ]
  }
 ],
 "metadata": {
  "kernelspec": {
   "display_name": "Python 3",
   "language": "python",
   "name": "python3"
  },
  "language_info": {
   "codemirror_mode": {
    "name": "ipython",
    "version": 3
   },
   "file_extension": ".py",
   "mimetype": "text/x-python",
   "name": "python",
   "nbconvert_exporter": "python",
   "pygments_lexer": "ipython3",
   "version": "3.9.6"
  }
 },
 "nbformat": 4,
 "nbformat_minor": 2
}
