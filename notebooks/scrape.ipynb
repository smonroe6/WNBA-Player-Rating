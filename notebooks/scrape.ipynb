{
 "cells": [
  {
   "cell_type": "markdown",
   "id": "2571c931",
   "metadata": {},
   "source": [
    "Scrap 2023-2025 Data"
   ]
  },
  {
   "cell_type": "code",
   "execution_count": 9,
   "id": "537ec131",
   "metadata": {},
   "outputs": [],
   "source": [
    "import pandas as pd\n",
    "\n",
    "url = 'https://www.basketball-reference.com/wnba/years/2023_totals.html'\n",
    "df2023 = pd.read_html(url)[0]  # First table is the player totals\n",
    "df2023 = df2023[df2023['Player'] != 'Player']  # Drop header rows repeated in table\n",
    "df2023 = df2023.drop_duplicates()        # Remove duplicate entries, if any\n",
    "df2023['MP'] = pd.to_numeric(df2023['MP'])\n",
    "df2023 = df2023.drop('G.1', axis=1)\n",
    "df2023 = df2023.drop('MP.1', axis=1)\n",
    "\n",
    "cols_to_exclude = ['Player', 'Team', 'Pos']\n",
    "cols_to_convert = df2023.columns.difference(cols_to_exclude)\n",
    "\n",
    "df2023[cols_to_convert] = df2023[cols_to_convert].apply(pd.to_numeric, errors='coerce')\n",
    "\n",
    "df2023\n",
    "\n",
    "df2023.to_csv('/Users/stephenmonroe/Desktop/Coding/WNBA-Player-Rating/data/Raw/2023Data.csv', index=False)\n",
    "\n",
    "url = 'https://www.basketball-reference.com/wnba/years/2024_totals.html'\n",
    "df2024 = pd.read_html(url)[0]  # First table is the player totals\n",
    "df2024 = df2024[df2024['Player'] != 'Player']  # Drop header rows repeated in table\n",
    "df2024 = df2024.drop_duplicates()        # Remove duplicate entries, if any\n",
    "df2024['MP'] = pd.to_numeric(df2024['MP'])\n",
    "df2024 = df2024.drop('G.1', axis=1)\n",
    "df2024 = df2024.drop('MP.1', axis=1)\n",
    "\n",
    "cols_to_exclude = ['Player', 'Team', 'Pos']\n",
    "cols_to_convert = df2024.columns.difference(cols_to_exclude)\n",
    "\n",
    "df2024[cols_to_convert] = df2024[cols_to_convert].apply(pd.to_numeric, errors='coerce')\n",
    "\n",
    "df2024\n",
    "\n",
    "df2024.to_csv('/Users/stephenmonroe/Desktop/Coding/WNBA-Player-Rating/data/Raw/2024Data.csv', index=False)\n",
    "\n",
    "url = 'https://www.basketball-reference.com/wnba/years/2025_totals.html'\n",
    "df2025 = pd.read_html(url)[0]  # First table is the player totals\n",
    "df2025 = df2025[df2025['Player'] != 'Player']  # Drop header rows repeated in table\n",
    "df2025 = df2025.drop_duplicates()        # Remove duplicate entries, if any\n",
    "df2025['MP'] = pd.to_numeric(df2025['MP'])\n",
    "df2025 = df2025.drop('G.1', axis=1)\n",
    "df2025 = df2025.drop('MP.1', axis=1)\n",
    "\n",
    "cols_to_exclude = ['Player', 'Team', 'Pos']\n",
    "cols_to_convert = df2025.columns.difference(cols_to_exclude)\n",
    "\n",
    "df2025[cols_to_convert] = df2025[cols_to_convert].apply(pd.to_numeric, errors='coerce')\n",
    "\n",
    "df2025\n",
    "\n",
    "df2025.to_csv('/Users/stephenmonroe/Desktop/Coding/WNBA-Player-Rating/data/Raw/2025Data.csv', index=False)"
   ]
  }
 ],
 "metadata": {
  "kernelspec": {
   "display_name": "Python 3",
   "language": "python",
   "name": "python3"
  },
  "language_info": {
   "codemirror_mode": {
    "name": "ipython",
    "version": 3
   },
   "file_extension": ".py",
   "mimetype": "text/x-python",
   "name": "python",
   "nbconvert_exporter": "python",
   "pygments_lexer": "ipython3",
   "version": "3.9.6"
  }
 },
 "nbformat": 4,
 "nbformat_minor": 5
}
