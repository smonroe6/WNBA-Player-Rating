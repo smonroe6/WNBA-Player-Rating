{
 "cells": [
  {
   "cell_type": "markdown",
   "id": "2571c931",
   "metadata": {},
   "source": [
    "Scrap 2023-2025 Data"
   ]
  },
  {
   "cell_type": "code",
   "execution_count": 9,
   "id": "537ec131",
   "metadata": {},
   "outputs": [],
   "source": [
    "import pandas as pd\n",
    "\n",
    "url = 'https://www.basketball-reference.com/wnba/years/2023_totals.html'\n",
    "df = pd.read_html(url)[0]  # First table is the player totals\n",
    "df = df[df['Player'] != 'Player']  # Drop header rows repeated in table\n",
    "df = df.drop_duplicates()        # Remove duplicate entries, if any\n",
    "df['MP'] = pd.to_numeric(df['MP'])\n",
    "df = df.drop('G.1', axis=1)\n",
    "df = df.drop('MP.1', axis=1)\n",
    "\n",
    "cols_to_exclude = ['Player', 'Team', 'Pos']\n",
    "cols_to_convert = df.columns.difference(cols_to_exclude)\n",
    "\n",
    "df[cols_to_convert] = df[cols_to_convert].apply(pd.to_numeric, errors='coerce')\n",
    "\n",
    "df\n",
    "\n",
    "df.to_csv('/Users/stephenmonroe/Desktop/Coding/WNBA-Player-Rating/data/Raw/2023Data.csv', index=False)\n",
    "\n",
    "url = 'https://www.basketball-reference.com/wnba/years/2024_totals.html'\n",
    "df = pd.read_html(url)[0]  # First table is the player totals\n",
    "df = df[df['Player'] != 'Player']  # Drop header rows repeated in table\n",
    "df = df.drop_duplicates()        # Remove duplicate entries, if any\n",
    "df['MP'] = pd.to_numeric(df['MP'])\n",
    "df = df.drop('G.1', axis=1)\n",
    "df = df.drop('MP.1', axis=1)\n",
    "\n",
    "cols_to_exclude = ['Player', 'Team', 'Pos']\n",
    "cols_to_convert = df.columns.difference(cols_to_exclude)\n",
    "\n",
    "df[cols_to_convert] = df[cols_to_convert].apply(pd.to_numeric, errors='coerce')\n",
    "\n",
    "df\n",
    "\n",
    "df.to_csv('/Users/stephenmonroe/Desktop/Coding/WNBA-Player-Rating/data/Raw/2024Data.csv', index=False)\n",
    "\n",
    "url = 'https://www.basketball-reference.com/wnba/years/2025_totals.html'\n",
    "df = pd.read_html(url)[0]  # First table is the player totals\n",
    "df = df[df['Player'] != 'Player']  # Drop header rows repeated in table\n",
    "df = df.drop_duplicates()        # Remove duplicate entries, if any\n",
    "df['MP'] = pd.to_numeric(df['MP'])\n",
    "df = df.drop('G.1', axis=1)\n",
    "df = df.drop('MP.1', axis=1)\n",
    "\n",
    "cols_to_exclude = ['Player', 'Team', 'Pos']\n",
    "cols_to_convert = df.columns.difference(cols_to_exclude)\n",
    "\n",
    "df[cols_to_convert] = df[cols_to_convert].apply(pd.to_numeric, errors='coerce')\n",
    "\n",
    "df\n",
    "\n",
    "df.to_csv('/Users/stephenmonroe/Desktop/Coding/WNBA-Player-Rating/data/Raw/2025Data.csv', index=False)"
   ]
  }
 ],
 "metadata": {
  "kernelspec": {
   "display_name": "Python 3",
   "language": "python",
   "name": "python3"
  },
  "language_info": {
   "codemirror_mode": {
    "name": "ipython",
    "version": 3
   },
   "file_extension": ".py",
   "mimetype": "text/x-python",
   "name": "python",
   "nbconvert_exporter": "python",
   "pygments_lexer": "ipython3",
   "version": "3.9.6"
  }
 },
 "nbformat": 4,
 "nbformat_minor": 5
}
